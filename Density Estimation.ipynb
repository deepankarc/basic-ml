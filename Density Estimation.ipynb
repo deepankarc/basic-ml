{
 "cells": [
  {
   "cell_type": "code",
   "execution_count": 1,
   "metadata": {
    "collapsed": true
   },
   "outputs": [],
   "source": [
    "import pandas as pd\n",
    "import numpy as np\n",
    "import numpy.linalg as linalg\n",
    "import matplotlib.pyplot as mpplt\n",
    "from sklearn.naive_bayes import GaussianNB\n",
    "from sklearn.neighbors import KNeighborsClassifier\n",
    "from sklearn.mixture import GaussianMixture\n",
    "%matplotlib inline"
   ]
  },
  {
   "cell_type": "code",
   "execution_count": 2,
   "metadata": {
    "collapsed": true
   },
   "outputs": [],
   "source": [
    "# load data\n",
    "data_names = ['x1','x2','label']\n",
    "train_data = pd.read_csv('P3a_train_data_mod.txt', names=data_names)\n",
    "test_data = pd.read_csv('P3a_test_data_mod.txt', names=data_names)\n",
    "train = train_data.values\n",
    "test = test_data.values\n",
    "\n",
    "# constants\n",
    "NUM_TRAIN = train.shape[0]\n",
    "NUM_TEST = test.shape[0]\n",
    "NUM_FEATS = 1\n",
    "NUM_ITERS = 1\n",
    "NUM_SAMPLES = 100\n",
    "\n",
    "# create train and test set\n",
    "train_X = train[:,0:NUM_FEATS]\n",
    "train_y = train[:,NUM_FEATS].astype('int')\n",
    "test_X = test[:,0:NUM_FEATS]\n",
    "test_y = test[:,NUM_FEATS].astype('int')\n",
    "l1_idx = np.asarray([i for i in range(len(train_y)) if train_y[i] == 1], dtype='int')\n",
    "l2_idx = np.asarray([i for i in range(len(train_y)) if train_y[i] == -1], dtype='int')\n"
   ]
  },
  {
   "cell_type": "code",
   "execution_count": null,
   "metadata": {
    "collapsed": true
   },
   "outputs": [],
   "source": [
    "def kldiv(p,q):\n",
    "  return -p * np.log(q / p)\n",
    "\n",
    "# actual density parameters\n",
    "a_mu1 = [0,4]\n",
    "a_var1 = [4,4]\n",
    "\n",
    "a_mu2 = [8,12]\n",
    "a_var2 = [5,5]"
   ]
  },
  {
   "cell_type": "code",
   "execution_count": 3,
   "metadata": {},
   "outputs": [
    {
     "data": {
      "image/png": "[encoded data removed]",
      "text/plain": [
       "<matplotlib.figure.Figure at 0xbc33e56ac8>"
      ]
     },
     "metadata": {},
     "output_type": "display_data"
    }
   ],
   "source": [
    "# plot the data points\n",
    "fig = mpplt.figure(figsize=(24,4))\n",
    "mpplt.scatter(train_X[l1_idx,0], np.linspace(0,0,100), c='g', label='Class Label: 1')\n",
    "mpplt.scatter(train_X[l2_idx,0], np.linspace(0,0,100), c='r', label='Class Label: -1')\n",
    "mpplt.xlabel('X')\n",
    "mpplt.ylabel('Probability Density')\n",
    "mpplt.legend()\n",
    "mpplt.savefig('q311.pdf', bbox_inches='tight')"
   ]
  },
  {
   "cell_type": "code",
   "execution_count": 6,
   "metadata": {},
   "outputs": [
    {
     "ename": "NameError",
     "evalue": "name 'maximum_likelihood' is not defined",
     "output_type": "error",
     "traceback": [
      "\u001b[1;31m---------------------------------------------------------------------------\u001b[0m",
      "\u001b[1;31mNameError\u001b[0m                                 Traceback (most recent call last)",
      "\u001b[1;32m<ipython-input-6-bdeaf60b79d9>\u001b[0m in \u001b[0;36m<module>\u001b[1;34m()\u001b[0m\n\u001b[0;32m     18\u001b[0m \u001b[1;33m\u001b[0m\u001b[0m\n\u001b[0;32m     19\u001b[0m \u001b[1;31m# acc, model = maximum_likelihood(train_X, train_y, test_X, test_y)\u001b[0m\u001b[1;33m\u001b[0m\u001b[1;33m\u001b[0m\u001b[0m\n\u001b[1;32m---> 20\u001b[1;33m \u001b[0macc\u001b[0m\u001b[1;33m,\u001b[0m \u001b[0mmodel\u001b[0m \u001b[1;33m=\u001b[0m \u001b[0mmaximum_likelihood\u001b[0m\u001b[1;33m(\u001b[0m\u001b[0mtrain_X\u001b[0m\u001b[1;33m,\u001b[0m \u001b[0mtrain_y\u001b[0m\u001b[1;33m,\u001b[0m \u001b[0ml1_idx\u001b[0m\u001b[1;33m,\u001b[0m \u001b[0ml2_idx\u001b[0m\u001b[1;33m,\u001b[0m \u001b[0mtest_X\u001b[0m\u001b[1;33m,\u001b[0m \u001b[0mtest_y\u001b[0m\u001b[1;33m)\u001b[0m\u001b[1;33m\u001b[0m\u001b[0m\n\u001b[0m\u001b[0;32m     21\u001b[0m \u001b[0mprint\u001b[0m\u001b[1;33m(\u001b[0m\u001b[0mmodel\u001b[0m\u001b[1;33m.\u001b[0m\u001b[0mtheta_\u001b[0m\u001b[1;33m)\u001b[0m\u001b[1;33m\u001b[0m\u001b[0m\n\u001b[0;32m     22\u001b[0m \u001b[0mplot_gaussian\u001b[0m\u001b[1;33m(\u001b[0m\u001b[0mtrain_X\u001b[0m\u001b[1;33m[\u001b[0m\u001b[0ml1_idx\u001b[0m\u001b[1;33m]\u001b[0m\u001b[1;33m,\u001b[0m \u001b[1;33m[\u001b[0m\u001b[0mmodel\u001b[0m\u001b[1;33m.\u001b[0m\u001b[0mtheta_\u001b[0m\u001b[1;33m[\u001b[0m\u001b[1;36m1\u001b[0m\u001b[1;33m]\u001b[0m\u001b[1;33m,\u001b[0m \u001b[0mmodel\u001b[0m\u001b[1;33m.\u001b[0m\u001b[0msigma_\u001b[0m\u001b[1;33m[\u001b[0m\u001b[1;36m1\u001b[0m\u001b[1;33m]\u001b[0m\u001b[1;33m]\u001b[0m\u001b[1;33m,\u001b[0m \u001b[1;34m'1'\u001b[0m\u001b[1;33m,\u001b[0m \u001b[0mc_color\u001b[0m\u001b[1;33m=\u001b[0m\u001b[1;34m'g'\u001b[0m\u001b[1;33m)\u001b[0m\u001b[1;33m\u001b[0m\u001b[0m\n",
      "\u001b[1;31mNameError\u001b[0m: name 'maximum_likelihood' is not defined"
     ]
    }
   ],
   "source": [
    "def plot_gaussian(data_X, theta, c_label, c_color):\n",
    "  mu, var = theta[0], theta[1]\n",
    "  \n",
    "#   y = np.empty((data_X.shape[0]))\n",
    "  x = np.linspace(-6.0,16.0,100)\n",
    "  y = np.empty_like(x)\n",
    "  \n",
    "  for i, p in enumerate(x):\n",
    "    y[i] = gaussian_density(p, mu, var)\n",
    "  \n",
    "  mpplt.plot(y, c=c_color, label='Class Label: '+c_label)\n",
    "  mpplt.xlabel('X')\n",
    "  mpplt.ylabel('Probability Density')\n",
    "  mpplt.legend()\n",
    "  mpplt.savefig('q321.pdf', bbox_inches='tight')\n",
    "  \n",
    "  return  \n",
    "\n",
    "# acc, model = maximum_likelihood(train_X, train_y, test_X, test_y)\n",
    "acc, model = maximum_likelihood(train_X, train_y, l1_idx, l2_idx, test_X, test_y)\n",
    "print(model.theta_)\n",
    "plot_gaussian(train_X[l1_idx], [model.theta_[1], model.sigma_[1]], '1', c_color='g')\n",
    "plot_gaussian(train_X[l2_idx], [model.theta_[0], model.sigma_[0]], '-1', c_color='r')\n",
    "print(acc)\n"
   ]
  },
  {
   "cell_type": "code",
   "execution_count": 7,
   "metadata": {
    "scrolled": true
   },
   "outputs": [
    {
     "name": "stdout",
     "output_type": "stream",
     "text": [
      "[array([ 0.55946733,  0.44053267]), array([[ 3.82634217],\n",
      "       [ 0.35767464]]), array([[[ 5.09924785]],\n",
      "\n",
      "       [[ 5.77764723]]])] \n",
      " [array([ 0.4763041,  0.5236959]), array([[  7.56733886],\n",
      "       [ 11.51192029]]), array([[[ 3.29167046]],\n",
      "\n",
      "       [[ 2.92627073]]])]\n",
      "0.925\n"
     ]
    },
    {
     "data": {
      "image/png": "[encoded data removed]",
      "text/plain": [
       "<matplotlib.figure.Figure at 0xbc3519f3c8>"
      ]
     },
     "metadata": {},
     "output_type": "display_data"
    }
   ],
   "source": [
    "def plot_multimodal_gaussian(data_X, theta, c_label, c_color):\n",
    "  \n",
    "  x = np.linspace(-6.0,16.0,100)\n",
    "  xlabel_pts = [-6,-3,0,3,6,9]\n",
    "  y = np.empty_like(x)\n",
    "  \n",
    "  for i, p in enumerate(x):\n",
    "    y[i] = f_class(p, theta)\n",
    "  \n",
    "  mpplt.plot(y, c=c_color, label='Class Label: '+c_label)\n",
    "  mpplt.xlabel('X')\n",
    "  mpplt.xticks((0,9,18,27,36,45,54,63,72,81,90,99), ('-6','-4','-2','0','2','4','6','8','10','12','14','16'))\n",
    "  mpplt.ylabel('Probability Density')\n",
    "  mpplt.legend()\n",
    "  mpplt.savefig('q314.pdf', bbox_inches='tight')\n",
    "\n",
    "acc, model1, model2 = gaussian_mixture_model(train_X[l1_idx], train_y[l1_idx], train_X[l2_idx],\n",
    "                                 train_y[l2_idx], test_X, test_y)\n",
    "plot_multimodal_gaussian(train_X[l1_idx], [model1.weights_, model1.means_, model1.covariances_], '1','g')\n",
    "plot_multimodal_gaussian(train_X[l2_idx], [model2.weights_, model2.means_, model2.covariances_], '-1','r')\n",
    "print(acc)\n",
    "\n"
   ]
  },
  {
   "cell_type": "markdown",
   "metadata": {},
   "source": [
    "### 3.a. GMM using Expectation Maximization"
   ]
  },
  {
   "cell_type": "code",
   "execution_count": 5,
   "metadata": {
    "collapsed": true
   },
   "outputs": [],
   "source": [
    "# compute classifier accuracy\n",
    "def get_accuracy(y, y_hat):\n",
    "  return np.float64(sum(y == y_hat)) / np.float64(y.size)\n",
    "\n",
    "# compute normal density at X\n",
    "def gaussian_density(X, mu, var):\n",
    "  y = (X - mu)**2 / (2 * var)\n",
    "  return np.exp(-y) / np.sqrt(2 * np.pi * var)\n",
    "\n",
    "# compute class conditional density at X\n",
    "def f_class(X, theta):\n",
    "  n1 = gaussian_density(X, theta[1][0], theta[2][0])\n",
    "  n2 = gaussian_density(X, theta[1][1], theta[2][1])\n",
    "  \n",
    "  return theta[0][0] * n1 + theta[0][1] * n2\n",
    "\n",
    "# use GMM to estimate component densities\n",
    "def gaussian_mixture_model(train_X1, train_y1, train_X2, train_y2, test_X, test_y):\n",
    "  pred_y = []\n",
    "  \n",
    "  # predict result for X using Bayes' Classifier\n",
    "  def _bayes_classifier(test_X, test_y, params):\n",
    "    for X in test_X:\n",
    "      q_1 = f_class(X, params[0])\n",
    "      q_2 = f_class(X, params[1])\n",
    "\n",
    "      if(q_1 >= q_2):\n",
    "        pred_y.append(1)\n",
    "      else:\n",
    "        pred_y.append(-1)\n",
    "\n",
    "    return get_accuracy(test_y, pred_y)\n",
    "  \n",
    "  model1 = GaussianMixture(n_components=2, covariance_type='full', n_init=10, max_iter=100)\n",
    "  model2 = GaussianMixture(n_components=2, covariance_type='full', n_init=10, max_iter=100)\n",
    "  gmm1 = model1.fit(train_X1)\n",
    "  gmm2 = model2.fit(train_X2)\n",
    "\n",
    "  theta1 = [gmm1.weights_, gmm1.means_, gmm1.covariances_]\n",
    "  theta2 = [gmm2.weights_, gmm2.means_, gmm2.covariances_]\n",
    "  print(theta1,\"\\n\" ,theta2)\n",
    "  acc = _bayes_classifier(test_X, test_y, [theta1, theta2])\n",
    "    \n",
    "  return [acc, gmm1, gmm2]\n"
   ]
  },
  {
   "cell_type": "markdown",
   "metadata": {},
   "source": [
    "### 3.b. Single Gaussian using MLE"
   ]
  },
  {
   "cell_type": "code",
   "execution_count": null,
   "metadata": {
    "collapsed": true
   },
   "outputs": [],
   "source": [
    "# compute classifier accuracy\n",
    "def get_accuracy(y, y_hat):\n",
    "  return np.float64(sum(y == y_hat)) / np.float64(y.size)\n",
    "\n",
    "# compute normal density at X\n",
    "def gaussian_density(X, mu, var):\n",
    "  y = (X - mu)**2 / (2 * var)\n",
    "  return np.exp(-y) / np.sqrt(2 * np.pi * var)\n",
    "\n",
    "# use MLE to estimate component densities\n",
    "def maximum_likelihood(train_X, train_y, test_X, test_y):\n",
    "  pred_y = []\n",
    "  \n",
    "  # ml estimate for gaussian density\n",
    "  def mle_gaussian(X):\n",
    "    mu = np.mean(X, axis=0)\n",
    "    sigma = np.mean((X - mu)**2)\n",
    "    print(mu,sigma)\n",
    "    return [mu, sigma]\n",
    "  \n",
    "  # predict result for X using Bayes' Classifier\n",
    "  def _bayes_classifier(test_X, test_y, params):\n",
    "    for X in test_X:\n",
    "      q_1 = gaussian_density(X, params[0][0], params[1][0])\n",
    "      q_2 = gaussian_density(X, params[0][1], params[1][1])\n",
    "\n",
    "      if(q_1 >= q_2):\n",
    "        pred_y.append(1)\n",
    "      else:\n",
    "        pred_y.append(-1)\n",
    "\n",
    "    return get_accuracy(test_y, pred_y)\n",
    "  \n",
    "  model = GaussianNB()\n",
    "  gnb = model.fit(train_X, train_y)\n",
    "  theta = [gnb.theta_, gnb.sigma_]\n",
    "\n",
    "  acc = _bayes_classifier(test_X, test_y, theta)\n",
    "  print(acc)\n",
    "    \n",
    "  return [acc, gnb]\n"
   ]
  },
  {
   "cell_type": "code",
   "execution_count": null,
   "metadata": {
    "collapsed": true
   },
   "outputs": [],
   "source": [
    "# compute classifier accuracy\n",
    "def get_accuracy(y, y_hat):\n",
    "  return np.float64(sum(y == y_hat)) / np.float64(y.size)\n",
    "\n",
    "# compute normal density at X\n",
    "def gaussian_density(X, mu, var):\n",
    "  y = (X - mu)**2 / (2 * var)\n",
    "  return np.exp(-y) / np.sqrt(2 * np.pi * var)\n",
    "\n",
    "# use MLE to estimate component densities\n",
    "def maximum_likelihood(train_X, train_y, l1_idx, l2_idx, test_X, test_y):\n",
    "  acc = np.empty((NUM_ITERS,1))\n",
    "  pred_y = []\n",
    "  \n",
    "  # ml estimate for gaussian density\n",
    "  def mle_gaussian(X):\n",
    "    mu = np.mean(X, axis=0)\n",
    "    sigma = np.mean((X - mu)**2)\n",
    "    print(mu,sigma)\n",
    "    return [mu, sigma]\n",
    "  \n",
    "  # predict result for X using Bayes' Classifier\n",
    "  def _bayes_classifier(test_X, test_y, params):\n",
    "    for X in test_X:\n",
    "      q_1 = gaussian_density(X, params[0][0], params[0][1])\n",
    "      q_2 = gaussian_density(X, params[1][1], params[1][1])\n",
    "\n",
    "      if(q_1 >= q_2):\n",
    "        pred_y.append(1)\n",
    "      else:\n",
    "        pred_y.append(-1)\n",
    "\n",
    "    return get_accuracy(test_y, pred_y)\n",
    "  \n",
    "  # use ML estimate to compute parameters\n",
    "  mu_1, sigma_1 = mle_gaussian(train_X[l1_idx])\n",
    "  mu_2, sigma_2 = mle_gaussian(train_X[l2_idx])\n",
    "  params = [[mu_1, sigma_1], [mu_2, sigma_2]]\n",
    "  \n",
    "  # train and predict\n",
    "  acc = _bayes_classifier(test_X, test_y, params)\n",
    "    \n",
    "  return [acc, params]\n"
   ]
  },
  {
   "cell_type": "code",
   "execution_count": null,
   "metadata": {
    "collapsed": true
   },
   "outputs": [],
   "source": [
    "def plot_gaussian(data_X, theta, c_label, c_color):\n",
    "  mu, var = theta[0], theta[1]\n",
    "  \n",
    "#   y = np.empty((data_X.shape[0]))\n",
    "  x = np.linspace(-6.0,16.0,100)\n",
    "  y = np.empty_like(x)\n",
    "  \n",
    "  for i, p in enumerate(x):\n",
    "    y[i] = gaussian_density(p, mu, var)\n",
    "  \n",
    "  mpplt.plot(y, c=c_color, label='Class Label: '+c_label)\n",
    "  mpplt.xlabel('X')\n",
    "  mpplt.ylabel('Probability Density')\n",
    "  mpplt.xticks((0,9,18,27,36,45,54,63,72,81,90,99), ('-6','-4','-2','0','2','4','6','8','10','12','14','16'))\n",
    "  mpplt.legend()\n",
    "  mpplt.savefig('q331.pdf', bbox_inches='tight')\n",
    "  \n",
    "  return  \n",
    "\n",
    "# acc, model = maximum_likelihood(train_X, train_y, test_X, test_y)\n",
    "acc, model = maximum_likelihood(train_X, train_y, l1_idx, l2_idx, test_X, test_y)\n",
    "plot_gaussian(train_X[l1_idx], [model[0][0], model[0][1]], '1', c_color='g')\n",
    "plot_gaussian(train_X[l2_idx], [model[1][0], model[1][1]], '-1', c_color='r')\n",
    "print(acc)\n"
   ]
  },
  {
   "cell_type": "markdown",
   "metadata": {},
   "source": [
    "### 3.c. KNN"
   ]
  },
  {
   "cell_type": "code",
   "execution_count": null,
   "metadata": {
    "collapsed": true
   },
   "outputs": [],
   "source": [
    "# compute classifier accuracy\n",
    "def get_accuracy(y, y_hat):\n",
    "  return np.float64(sum(y == y_hat)) / np.float64(y.size)\n",
    "\n",
    "def k_nearest_neighbors(train_X, train_y, test_X, test_y):\n",
    "  knc = KNeighborsClassifier(n_neighbors=5)\n",
    "  model = knc.fit(train_X, train_y)\n",
    "  pred_y = model.predict(test_X)\n",
    "  \n",
    "  return get_accuracy(test_y, pred_y)\n",
    "\n",
    "acc3 = k_nearest_neighbors(train_X, train_y, test_X, test_y)\n",
    "print(acc3)"
   ]
  },
  {
   "cell_type": "markdown",
   "metadata": {},
   "source": [
    "### Load data and run classifiers"
   ]
  },
  {
   "cell_type": "code",
   "execution_count": null,
   "metadata": {
    "collapsed": true
   },
   "outputs": [],
   "source": [
    "# run GMM\n",
    "acc1 = gaussian_mixture_model(train_X[l1_idx], train_y[l1_idx], train_X[l2_idx],\n",
    "                                 train_y[l2_idx], test_X, test_y)\n",
    "acc2 = maximum_likelihood(train_X, train_y, test_X, test_y)\n",
    "acc3 = k_nearest_neighbors(train_X, train_y, test_X, test_y)\n",
    "print(\"GMM: %f\" % (np.mean(acc1)))\n",
    "print(\"MLE: %f\" % (np.mean(acc2)))\n",
    "print(\"KNN: %f\" % (np.mean(acc3)))"
   ]
  },
  {
   "cell_type": "code",
   "execution_count": null,
   "metadata": {
    "collapsed": true
   },
   "outputs": [],
   "source": []
  },
  {
   "cell_type": "code",
   "execution_count": null,
   "metadata": {
    "collapsed": true
   },
   "outputs": [],
   "source": []
  },
  {
   "cell_type": "code",
   "execution_count": null,
   "metadata": {
    "collapsed": true
   },
   "outputs": [],
   "source": []
  }
 ],
 "metadata": {
  "kernelspec": {
   "display_name": "Python 3",
   "language": "python",
   "name": "python3"
  },
  "language_info": {
   "codemirror_mode": {
    "name": "ipython",
    "version": 3
   },
   "file_extension": ".py",
   "mimetype": "text/x-python",
   "name": "python",
   "nbconvert_exporter": "python",
   "pygments_lexer": "ipython3",
   "version": "3.6.1"
  }
 },
 "nbformat": 4,
 "nbformat_minor": 2
}
