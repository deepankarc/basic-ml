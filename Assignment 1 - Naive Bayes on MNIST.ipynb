{
 "cells": [
  {
   "cell_type": "code",
   "execution_count": 1,
   "metadata": {
    "collapsed": true
   },
   "outputs": [],
   "source": [
    "import numpy as np\n",
    "import pandas as pd\n",
    "import matplotlib.pyplot as plt\n",
    "\n",
    "# define constants\n",
    "IMG_H = 28\n",
    "IMG_W = 28\n",
    "NUM_DIGITS = 10\n",
    "INTENSITY_THRESHOLD = 127\n",
    "\n",
    "# read data\n",
    "data_frame = pd.read_csv(\"mnist_train.csv\",dtype=np.int32,header=None)\n",
    "NUM_TRAIN_IMAGES = data_frame.shape[0]\n",
    "NUM_PIXELS = data_frame.shape[1]-1\n",
    "    "
   ]
  },
  {
   "cell_type": "code",
   "execution_count": 2,
   "metadata": {
    "collapsed": true
   },
   "outputs": [],
   "source": [
    "# re-format data\n",
    "def reformat_data(data_frame):\n",
    "    np_data_frame = data_frame.values\n",
    "    images = np_data_frame[:,1:]\n",
    "    labels = np_data_frame[:,0]\n",
    "    \n",
    "    return [images, labels]\n",
    "\n",
    "[images_train, labels_train] = reformat_data(data_frame)\n"
   ]
  },
  {
   "cell_type": "code",
   "execution_count": 3,
   "metadata": {},
   "outputs": [
    {
     "data": {
      "image/png": "[encoded data removed]",
      "text/plain": [
       "<matplotlib.figure.Figure at 0x225a1f5400>"
      ]
     },
     "metadata": {},
     "output_type": "display_data"
    }
   ],
   "source": [
    "# plot data as a sanity check\n",
    "%matplotlib inline\n",
    "NUM_PLOTS = 10\n",
    "sample_idx = np.random.randint(0,NUM_TRAIN_IMAGES,(NUM_PLOTS))\n",
    "\n",
    "for i in range(0,NUM_PLOTS):\n",
    "    plt.subplot(2,5,i+1)\n",
    "    plt.imshow(np.reshape(images_train[sample_idx[i],:],(IMG_H,IMG_W)),cmap='gray')\n",
    "    plt.axis('off')\n",
    "\n",
    "plt.show()\n"
   ]
  },
  {
   "cell_type": "code",
   "execution_count": 4,
   "metadata": {
    "collapsed": true
   },
   "outputs": [],
   "source": [
    "def preprocess_dataset(images, labels):\n",
    "    images_ordered = np.empty_like(images)\n",
    "    images_threshold = np.empty_like(images)\n",
    "\n",
    "    # order images by label and threshold\n",
    "    label_indices = np.argsort(labels)\n",
    "    labels_sorted = labels[label_indices]\n",
    "    images_sorted = images[label_indices,:]\n",
    "    images_threshold = np.where(images_sorted > INTENSITY_THRESHOLD, 1, 0)\n",
    "    \n",
    "    return [images_threshold, labels_sorted]\n",
    "    \n",
    "def compute_probability(images_threshold, labels, NUM_DIGITS, NUM_PIXELS):\n",
    "    digit_freq = np.empty((NUM_DIGITS),dtype=np.int32)\n",
    "    pixel_freq_ones = np.empty((NUM_DIGITS,NUM_PIXELS),dtype=np.int32)\n",
    "    \n",
    "    # compute probability of each digit in train set\n",
    "    digit_freq = np.bincount(labels)\n",
    "    idx = np.insert(np.cumsum(digit_freq), 0, 0)\n",
    "    \n",
    "    # compute pixel probabilities\n",
    "    for digit in range(0,NUM_DIGITS):\n",
    "        pixel_freq_ones[digit,:] = np.sum(images_threshold[idx[digit]:idx[digit+1]-1,:],axis=0)\n",
    "    \n",
    "    pixel_freq_zeros = (np.reshape(digit_freq,(digit_freq.size,1)).T - pixel_freq_ones.T).T\n",
    "    pixel_freq = np.stack((pixel_freq_zeros / digit_freq[:,None], pixel_freq_ones / digit_freq[:,None]), axis=-1)\n",
    "    return [digit_freq / NUM_TRAIN_IMAGES, pixel_freq]\n",
    "    \n",
    "# preprocess the dataset then compute probabilities\n",
    "[images_threshold_train, labels_sorted_train] = preprocess_dataset(images_train, labels_train)\n",
    "[digit_freq, pixel_freq] = compute_probability(\n",
    "    images_threshold_train, labels_sorted_train, NUM_DIGITS, NUM_PIXELS)\n"
   ]
  },
  {
   "cell_type": "code",
   "execution_count": 5,
   "metadata": {
    "collapsed": true
   },
   "outputs": [],
   "source": [
    "# compute test set probabilities\n",
    "data_frame = pd.read_csv(\"mnist_test.csv\",dtype=np.int32,header=None)\n",
    "NUM_IMAGES_TEST = data_frame.shape[0]\n",
    "\n",
    "# separate the data\n",
    "[images_test, labels_test] = reformat_data(data_frame)\n",
    "\n",
    "# preprocess test set\n",
    "[images_threshold_test, labels_sorted_test] = preprocess_dataset(images_test, labels_test)\n"
   ]
  },
  {
   "cell_type": "code",
   "execution_count": 6,
   "metadata": {},
   "outputs": [
    {
     "data": {
      "image/png": "[encoded data removed]",
      "text/plain": [
       "<matplotlib.figure.Figure at 0x225a1b9ac8>"
      ]
     },
     "metadata": {},
     "output_type": "display_data"
    }
   ],
   "source": [
    "# plot data as a sanity check\n",
    "%matplotlib inline\n",
    "NUM_PLOTS = 10\n",
    "sample_idx = np.random.randint(0,NUM_IMAGES_TEST,(NUM_PLOTS))\n",
    "\n",
    "for i in range(0,NUM_PLOTS):\n",
    "    plt.subplot(2,5,i+1)\n",
    "    plt.imshow(np.reshape(images_threshold_test[sample_idx[i],:],(IMG_H,IMG_W)),cmap='gray')\n",
    "    plt.axis('off')\n",
    "\n",
    "plt.show()\n"
   ]
  },
  {
   "cell_type": "code",
   "execution_count": 7,
   "metadata": {},
   "outputs": [
    {
     "name": "stderr",
     "output_type": "stream",
     "text": [
      "F:\\Programming Tools\\Anaconda 2\\envs\\python36\\lib\\site-packages\\ipykernel_launcher.py:18: RuntimeWarning: invalid value encountered in true_divide\n"
     ]
    },
    {
     "data": {
      "text/plain": [
       "84.340000000000003"
      ]
     },
     "execution_count": 7,
     "metadata": {},
     "output_type": "execute_result"
    }
   ],
   "source": [
    "posterior = np.empty((NUM_IMAGES_TEST, NUM_DIGITS))\n",
    "label_predicted = np.empty((NUM_IMAGES_TEST))\n",
    "\n",
    "for idx in range(0, NUM_IMAGES_TEST):\n",
    "    likelihood = np.empty((NUM_DIGITS, NUM_PIXELS))\n",
    "    curr_image = np.int32(images_threshold_test[idx,:])\n",
    "    inv_curr_image = 1 - curr_image\n",
    "    \n",
    "    # compute the likelihood\n",
    "    image_stack = np.stack((inv_curr_image, curr_image), axis=-1)\n",
    "    pixel_intensity = np.repeat(image_stack[np.newaxis], NUM_DIGITS, axis=0)\n",
    "    likelihood = np.sum(np.multiply(pixel_freq, pixel_intensity), axis=2)\n",
    "    \n",
    "    # compute marginal probability\n",
    "    marginal = np.sum(np.prod(likelihood,axis=1) * digit_freq)\n",
    "    \n",
    "    # compute posterior probabilities and get predicted label\n",
    "    posterior[idx] = np.prod(likelihood,axis=1) * digit_freq / np.prod(marginal)\n",
    "    label_predicted[idx] = np.argmax(posterior[idx])\n",
    "    \n",
    "accuracy = np.sum(label_predicted == labels_sorted_test) / NUM_IMAGES_TEST * 100\n",
    "accuracy"
   ]
  },
  {
   "cell_type": "code",
   "execution_count": null,
   "metadata": {},
   "outputs": [],
   "source": [
    "digit_freq"
   ]
  },
  {
   "cell_type": "code",
   "execution_count": null,
   "metadata": {},
   "outputs": [],
   "source": [
    "pixel_freq[0,:,0] * digit_freq[0] * NUM_TRAIN_IMAGES"
   ]
  },
  {
   "cell_type": "code",
   "execution_count": null,
   "metadata": {},
   "outputs": [],
   "source": [
    "np.where(pixel_freq[0,:,0] * digit_freq[0] * NUM_TRAIN_IMAGES == 1323)"
   ]
  },
  {
   "cell_type": "code",
   "execution_count": 8,
   "metadata": {},
   "outputs": [
    {
     "data": {
      "text/plain": [
       "[0.22336653722775621,\n",
       " 0.65947242206235013,\n",
       " 0.10534716679968077,\n",
       " 0.0011865915158706616,\n",
       " 0.013497478493028774]"
      ]
     },
     "execution_count": 8,
     "metadata": {},
     "output_type": "execute_result"
    }
   ],
   "source": [
    "[pixel_freq[0,213,0], pixel_freq[5,523,0], pixel_freq[7,689,1], pixel_freq[1,497,1],pixel_freq[1,150,1]]"
   ]
  },
  {
   "cell_type": "code",
   "execution_count": 9,
   "metadata": {},
   "outputs": [
    {
     "data": {
      "text/plain": [
       "[0.95528660279038491,\n",
       " 0.73252435481114342,\n",
       " 0.80003262110585549,\n",
       " 0.98237663645518636,\n",
       " 0.00034234851078397807]"
      ]
     },
     "execution_count": 9,
     "metadata": {},
     "output_type": "execute_result"
    }
   ],
   "source": [
    "[pixel_freq[9,745,0],pixel_freq[8,652,0],pixel_freq[3,378,1],pixel_freq[2,219,0],pixel_freq[4,72,1]]"
   ]
  },
  {
   "cell_type": "code",
   "execution_count": null,
   "metadata": {
    "collapsed": true
   },
   "outputs": [],
   "source": []
  }
 ],
 "metadata": {
  "kernelspec": {
   "display_name": "Python 3",
   "language": "python",
   "name": "python3"
  },
  "language_info": {
   "codemirror_mode": {
    "name": "ipython",
    "version": 3
   },
   "file_extension": ".py",
   "mimetype": "text/x-python",
   "name": "python",
   "nbconvert_exporter": "python",
   "pygments_lexer": "ipython3",
   "version": "3.6.1"
  }
 },
 "nbformat": 4,
 "nbformat_minor": 2
}
